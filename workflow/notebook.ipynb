{
 "cells": [
  {
   "cell_type": "code",
   "execution_count": 8,
   "metadata": {},
   "outputs": [],
   "source": [
    "def Annotation_prepar_3UTR_extraction(gene_bed_file, gene_symbol_map_kfXref_file, output_utr_file):\n",
    "    \n",
    "    output_write = open(output_utr_file,'w')\n",
    "    \n",
    "    refseq_trapt_gene_symbol_dict = {}\n",
    "    num_line = 0\n",
    "    for line in open(gene_symbol_map_kfXref_file, 'r'):\n",
    "        if num_line > 0:\n",
    "            fields = line.strip('\\n').strip('\\r').split('\\t')\n",
    "            gene_symbol = fields[1]\n",
    "            refseq_transcript_id = fields[0]\n",
    "            refseq_trapt_gene_symbol_dict[refseq_transcript_id] = gene_symbol\n",
    "        else:\n",
    "            num_line += 1\n",
    "    \n",
    "    scanned_3UTR_list = []\n",
    "    num_saved = 0\n",
    "    for line in open(gene_bed_file,'r'):\n",
    "        fields = line.strip('\\n').split('\\t')\n",
    "        refseq_id = fields[3]\n",
    "        print(fields)\n",
    "        if refseq_id not in refseq_trapt_gene_symbol_dict:\n",
    "            gene_symbol = \"NA\"\n",
    "        else:\n",
    "            gene_symbol = refseq_trapt_gene_symbol_dict[refseq_id] \n",
    "        \n",
    "        UTR_id = [refseq_id, gene_symbol,fields[0], fields[5]]\n",
    "        UTR_id_new = '|'.join(UTR_id)\n",
    "        curr_strand = fields[5]\n",
    "        if curr_strand == \"+\":\n",
    "            UTR_end = fields[2]\n",
    "            gene_start = int(fields[1])\n",
    "            UTR_start = str(gene_start + int(fields[-1].strip(',').split(',')[-1])+1)#1base\n",
    "        elif curr_strand == \"-\":\n",
    "            gene_start = int(fields[1])\n",
    "            UTR_start = str(gene_start + 1)#1base\n",
    "            UTR_end   = str(gene_start + int(fields[10].split(',')[0]))#1base, included\n",
    "        \n",
    "        this_UTR = fields[0]+UTR_start+UTR_end+curr_strand\n",
    "        if this_UTR not in scanned_3UTR_list:\n",
    "            write_line = [fields[0], UTR_start, UTR_end,UTR_id_new, '0', curr_strand]\n",
    "            output_write.writelines('\\t'.join(write_line) + '\\n')\n",
    "            scanned_3UTR_list.append(this_UTR)\n",
    "            num_saved += 1\n",
    "    \n",
    "    \n",
    "    output_write.close()   \n",
    "    print(\"Total extracted 3' UTR: \" + str(num_saved))\n",
    "\n"
   ]
  },
  {
   "cell_type": "code",
   "execution_count": 9,
   "metadata": {},
   "outputs": [
    {
     "name": "stdout",
     "output_type": "stream",
     "text": [
      "['NC_077227.1', '536620', '561838', 'XM_056794572.1', '0', '-', '540217', '561534', '0', '4', '5840,99,127,364,', '0,6752,7344,24854,']\n",
      "['NC_077227.1', '584461', '592957', 'XR_008911371.1', '0', '-', '592957', '592957', '0', '4', '4769,99,127,104,', '0,5681,6284,8392,']\n",
      "['NC_077227.1', '584461', '593247', 'XM_056794645.1', '0', '-', '588670', '592266', '0', '5', '4769,99,127,88,130,', '0,5681,6284,7745,8656,']\n",
      "['NC_077227.1', '584461', '593138', 'XM_056794648.1', '0', '-', '588670', '592266', '0', '5', '4769,99,127,88,285,', '0,5681,6284,7745,8392,']\n",
      "['NC_077227.1', '595256', '599667', 'XR_008911362.1', '0', '+', '599667', '599667', '0', '3', '764,119,1424,', '0,1580,2987,']\n",
      "['NC_077227.1', '592794', '620249', 'XM_056794582.1', '0', '+', '614080', '617605', '0', '5', '127,119,127,98,4245,', '0,4042,15999,21234,23210,']\n",
      "['NC_077227.1', '595256', '666562', 'XM_056794608.1', '0', '+', '662102', '664623', '0', '11', '764,119,127,98,12886,176,127,96,127,99,2922,', '0,1580,13537,18772,20748,39588,39872,42667,66753,67373,68384,']\n",
      "['NC_077227.1', '595256', '620249', 'XM_056794576.1', '0', '+', '614080', '617605', '0', '5', '764,119,127,98,4245,', '0,1580,13537,18772,20748,']\n",
      "['NC_077227.1', '595256', '620249', 'XM_056794588.1', '0', '+', '614080', '617605', '0', '4', '764,127,98,4245,', '0,13537,18772,20748,']\n",
      "['NC_077227.1', '596068', '620249', 'XM_056794579.1', '0', '+', '614080', '617605', '0', '5', '350,119,127,98,4245,', '0,768,12725,17960,19936,']\n",
      "Total extracted 3' UTR: 5\n"
     ]
    }
   ],
   "source": [
    "Annotation_prepar_3UTR_extraction(\"test/input.bed\", \"test/genesymbol.txt\", \"test/output.bed\")"
   ]
  },
  {
   "cell_type": "code",
   "execution_count": null,
   "metadata": {},
   "outputs": [],
   "source": []
  }
 ],
 "metadata": {
  "kernelspec": {
   "display_name": "pyenv",
   "language": "python",
   "name": "python3"
  },
  "language_info": {
   "codemirror_mode": {
    "name": "ipython",
    "version": 3
   },
   "file_extension": ".py",
   "mimetype": "text/x-python",
   "name": "python",
   "nbconvert_exporter": "python",
   "pygments_lexer": "ipython3",
   "version": "3.10.9"
  },
  "orig_nbformat": 4
 },
 "nbformat": 4,
 "nbformat_minor": 2
}
